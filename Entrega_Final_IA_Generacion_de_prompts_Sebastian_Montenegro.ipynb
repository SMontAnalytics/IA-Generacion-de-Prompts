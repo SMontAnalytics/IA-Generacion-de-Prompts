{
  "nbformat": 4,
  "nbformat_minor": 0,
  "metadata": {
    "colab": {
      "provenance": []
    },
    "kernelspec": {
      "name": "python3",
      "display_name": "Python 3"
    },
    "language_info": {
      "name": "python"
    }
  },
  "cells": [
    {
      "cell_type": "code",
      "source": [
        "#Librerias y configuracion de API Key.\n",
        "\n",
        "import google.generativeai as genai\n",
        "import os\n",
        "from IPython.display import display, Image\n",
        "import base64\n",
        "from PIL import Image as PILImage\n",
        "from io import BytesIO\n",
        "from google.colab import userdata\n",
        "\n",
        "API_KEY = userdata.get('GOOGLE_API_KEY')\n",
        "genai.configure(api_key=API_KEY)"
      ],
      "metadata": {
        "id": "dZlo7fKBhvMo"
      },
      "execution_count": 3,
      "outputs": []
    },
    {
      "cell_type": "code",
      "execution_count": 4,
      "metadata": {
        "id": "hI_Gdj1hBqet"
      },
      "outputs": [],
      "source": [
        "#Configuracion del Modelo de IA.\n",
        "\n",
        "model = genai.GenerativeModel('gemini-2.5-flash-image-preview')"
      ]
    },
    {
      "cell_type": "code",
      "source": [
        "# Definición de la lógica principal (Función con Fast Prompting y generación de imágenes)\n",
        "\n",
        "def generar_plan_entrenamiento_con_imagenes(user_data):\n",
        "    \"\"\"\n",
        "    Genera un plan de entrenamiento semanal completo con imágenes de los ejercicios.\n",
        "\n",
        "    Args:\n",
        "        user_data (dict): Un diccionario con la siguiente información:\n",
        "            - 'nombre' (str): Nombre del usuario.\n",
        "            - 'edad' (int): Edad del usuario.\n",
        "            - 'nivel' (str): Nivel de experiencia (ej. 'principiante', 'intermedio', 'avanzado').\n",
        "            - 'objetivo' (str): Meta principal (ej. 'ganar masa muscular', 'perder peso', 'mejorar resistencia').\n",
        "            - 'dias_entrenamiento' (int): Número de días para entrenar por semana.\n",
        "            - 'equipo_disponible' (str): Lista de equipo disponible (ej. 'mancuernas, barra, banco, bandas de resistencia').\n",
        "            - 'condicion_medica' (str): Cualquier condición médica relevante o 'Ninguna'.\n",
        "\n",
        "    Returns:\n",
        "        list: Una lista de objetos de la respuesta, cada uno puede ser texto o una imagen.\n",
        "    \"\"\"\n",
        "\n",
        "\n",
        "    prompt = f\"\"\"\n",
        "    Eres un entrenador personal con una década de experiencia. Tu objetivo es crear planes de entrenamiento seguros, efectivos y personalizados.\n",
        "\n",
        "    ### Datos del Usuario:\n",
        "    - **Nombre:** {user_data['nombre']}\n",
        "    - **Edad:** {user_data['edad']} años\n",
        "    - **Nivel de Experiencia:** {user_data['nivel']}\n",
        "    - **Objetivo Principal:** {user_data['objetivo']}\n",
        "    - **Días de Entrenamiento por Semana:** {user_data['dias_entrenamiento']}\n",
        "    - **Equipo Disponible:** {user_data['equipo_disponible']}\n",
        "    - **Condiciones Médicas:** {user_data['condicion_medica']}\n",
        "\n",
        "    ### Tarea:\n",
        "    Crea un plan de entrenamiento semanal detallado. Para cada ejercicio, incluye una imagen de una persona realizándolo correctamente.\n",
        "\n",
        "    El plan debe incluir:\n",
        "    - Una introducción motivacional.\n",
        "    - Un calentamiento general.\n",
        "    - Para cada día de entrenamiento (hasta {user_data['dias_entrenamiento']} días a la semana):\n",
        "        - Un título para el día (ej. \"Día 1: Tren Superior\").\n",
        "        - Una lista de ejercicios con el nombre, número de series y repeticiones.\n",
        "        - **IMPORTANTE:** Por cada ejercicio, genera una imagen que muestre la técnica correcta.\n",
        "        - Un enfriamiento o estiramiento.\n",
        "    - Una conclusión con consejos de nutrición y descanso.\n",
        "\n",
        "    ### Formato de Salida:\n",
        "    Utiliza formato Markdown para estructurar la respuesta de manera clara y legible.\n",
        "\n",
        "    \"\"\"\n",
        "\n",
        "    try:\n",
        "\n",
        "        response = model.generate_content(prompt)\n",
        "        return response.candidates[0].content.parts\n",
        "    except Exception as e:\n",
        "        print(f\"Ocurrió un error al generar el plan de entrenamiento: {e}\")\n",
        "        return []"
      ],
      "metadata": {
        "id": "IS8pwrb6izWH"
      },
      "execution_count": 11,
      "outputs": []
    },
    {
      "cell_type": "code",
      "source": [
        "# Ejecución de la Prueba de Concepto\n",
        "\n",
        "\n",
        "### 3. Ejecución de la Prueba de Concepto\n",
        "\n",
        "# Define un diccionario de datos de usuario de ejemplo.\n",
        "# En una aplicación real, estos datos serían recolectados a través de un formulario.\n",
        "datos_ejemplo = {\n",
        "    'nombre': 'Elena',\n",
        "    'edad': 28,\n",
        "    'nivel': 'intermedio',\n",
        "    'objetivo': 'ganar masa muscular',\n",
        "    'dias_entrenamiento': 4,\n",
        "    'equipo_disponible': 'mancuernas, barra, banco, bandas de resistencia',\n",
        "    'condicion_medica': 'Ninguna'\n",
        "}\n",
        "\n",
        "# Llama a la función que ejecuta el \"Fast Prompting\" y genera el plan.\n",
        "print(\"Generando plan de entrenamiento con imágenes. Esto puede tomar unos momentos...\")\n",
        "response_parts = generar_plan_entrenamiento_con_imagenes(datos_ejemplo)\n",
        "\n",
        "# Imprime el plan generado para el usuario, mostrando texto e imágenes\n",
        "if response_parts:\n",
        "    print(\"\\n--- ¡Tu plan de entrenamiento está listo! ---\")\n",
        "    for part in response_parts:\n",
        "        if part.text:\n",
        "            print(part.text)\n",
        "        elif part.inline_data:\n",
        "            img_data = base64.b64decode(part.inline_data.data)\n",
        "            img = PILImage.open(BytesIO(img_data))\n",
        "            display(img)\n",
        "    print(\"---------------------------------------------\")\n",
        "else:\n",
        "    print(\"No se pudo generar el plan de entrenamiento. Por favor, revisa la clave de API y la conexión.\")\n"
      ],
      "metadata": {
        "colab": {
          "base_uri": "https://localhost:8080/",
          "height": 176
        },
        "id": "zmdVRLjTjJ9T",
        "outputId": "10245995-0e44-409f-9efc-524acf59cb34"
      },
      "execution_count": 12,
      "outputs": [
        {
          "output_type": "stream",
          "name": "stdout",
          "text": [
            "Generando plan de entrenamiento con imágenes. Esto puede tomar unos momentos...\n"
          ]
        },
        {
          "output_type": "stream",
          "name": "stderr",
          "text": [
            "WARNING:tornado.access:429 POST /v1beta/models/gemini-2.5-flash-image-preview:generateContent?%24alt=json%3Benum-encoding%3Dint (127.0.0.1) 1336.79ms\n"
          ]
        },
        {
          "output_type": "stream",
          "name": "stdout",
          "text": [
            "Ocurrió un error al generar el plan de entrenamiento: 429 POST https://generativelanguage.googleapis.com/v1beta/models/gemini-2.5-flash-image-preview:generateContent?%24alt=json%3Benum-encoding%3Dint: You exceeded your current quota, please check your plan and billing details. For more information on this error, head to: https://ai.google.dev/gemini-api/docs/rate-limits.\n",
            "* Quota exceeded for metric: generativelanguage.googleapis.com/generate_content_free_tier_input_token_count, limit: 0\n",
            "* Quota exceeded for metric: generativelanguage.googleapis.com/generate_content_free_tier_requests, limit: 0\n",
            "* Quota exceeded for metric: generativelanguage.googleapis.com/generate_content_free_tier_requests, limit: 0\n",
            "Please retry in 28.948050498s.\n",
            "No se pudo generar el plan de entrenamiento. Por favor, revisa la clave de API y la conexión.\n"
          ]
        }
      ]
    }
  ]
}